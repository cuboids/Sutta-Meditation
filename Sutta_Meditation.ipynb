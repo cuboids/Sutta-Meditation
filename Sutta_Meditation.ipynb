{
  "nbformat": 4,
  "nbformat_minor": 0,
  "metadata": {
    "colab": {
      "name": "Sutta Meditation.ipynb",
      "provenance": [],
      "collapsed_sections": []
    },
    "kernelspec": {
      "name": "python3",
      "display_name": "Python 3"
    }
  },
  "cells": [
    {
      "cell_type": "markdown",
      "metadata": {
        "id": "HzDHXz557KNC",
        "colab_type": "text"
      },
      "source": [
        "<img src=\"https://huntingtonarchive.org/Exhibitions/images/fullScreen/COB/01/01_02.jpg\" alt=\"Victory over Mara\" width=\"500\"/>\n",
        "\n",
        "*\\\"Victory over Mara\" (ca. 11th century). Image source: [Circle of Bliss Exhibit](https://huntingtonarchive.org/Exhibitions/circleOfBlissExhibit.php) by the Huntington Archive.* "
      ]
    },
    {
      "cell_type": "markdown",
      "metadata": {
        "id": "YVDPGQg39BBZ",
        "colab_type": "text"
      },
      "source": [
        "##Sutta Meditation v0.0.2\n",
        "\n",
        "Sutta Meditation creates playlists from [SuttaCentral Voice](https://voice.suttacentral.net/scv/index.html#/sutta) with customizable intervals of silence in-between suttas. Adding these moments of quiet allows for reflection or \"sutta meditation\". To use this notebook, first run the cell below and then make your own playlist using the documentation and examples!"
      ]
    },
    {
      "cell_type": "code",
      "metadata": {
        "id": "H7DpyKsawhXe",
        "colab_type": "code",
        "cellView": "both",
        "colab": {}
      },
      "source": [
        "#@title <--- Please click here!\n",
        "%%capture\n",
        "\n",
        "import urllib.request\n",
        "\n",
        "!pip install pydub\n",
        "from pydub import AudioSegment\n",
        "\n",
        "\n",
        "def make_audio(basket=\"\", book=\"\", first_sutta=\"\", last_sutta=\"\", \n",
        "               balance=0.25, dist=1.5, initial_silence=0, voice=\"Raveena\",\n",
        "               export=False):\n",
        "\n",
        "    if not (book or first_sutta or last_sutta):\n",
        "        if basket.casefold() == \"sn\" or not basket:\n",
        "            basket = \"sn\"\n",
        "            book = 3\n",
        "            first_sutta = 21\n",
        "            last_sutta = 25\n",
        "        elif basket.casefold() == \"dn\":\n",
        "            first_sutta = 7\n",
        "            last_sutta = 7\n",
        "        elif basket.casefold() == \"mn\":\n",
        "            first_sutta = 19\n",
        "            last_sutta = 20\n",
        "        elif basket.casefold() == \"an\":\n",
        "            book = 8\n",
        "            first_sutta = 1\n",
        "            last_sutta = 5\n",
        "        elif basket.casefold() == \"thag\":\n",
        "            book = 7\n",
        "            first_sutta = 1\n",
        "            last_sutta = 5\n",
        "        elif basket.casefold() == \"thig\":\n",
        "            book = 7\n",
        "            first_sutta = 1\n",
        "            last_sutta = 3\n",
        "    elif not book and basket.casefold() in [\"sn\", \"an\", \"thig\", \"thag\"]:\n",
        "        return(\"Please specify book! (See documentation.)\")\n",
        "    elif basket.casefold() not in [\"dn\", \"mn\", \"sn\", \"an\", \"thag\", \"thig\"]:\n",
        "        return(\"Please enter a valid basket! (See documentation.)\")\n",
        "    elif not first_sutta and last_sutta:\n",
        "        return(\"Please specify the first sutta!\")\n",
        "    elif not first_sutta and not last_sutta:\n",
        "        return(\"Please specify which suttas you'd like to hear!\")\n",
        "    elif book and basket.casefold() in [\"dn\", \"mn\"]:\n",
        "        book = \"\"\n",
        "    if first_sutta and not last_sutta:\n",
        "        last_sutta = first_sutta\n",
        "    if voice.casefold() == \"sujato\":\n",
        "        suffix = \"_en\"\n",
        "    else:\n",
        "        suffix = \"\"\n",
        "    if not book:\n",
        "        dot_or_not = \"\"\n",
        "    else:\n",
        "        dot_or_not = \".\"\n",
        "    suttas = list(range(first_sutta, last_sutta + 1))\n",
        "    nsilences = len(suttas) - 1\n",
        "\n",
        "    def silence_distribution(n):\n",
        "        global norm_silence_weights\n",
        "        if nsilences == 1:\n",
        "            norm_silence_weights = [1]\n",
        "        else:\n",
        "            silence_weights = []\n",
        "            norm_silence_weights = []\n",
        "            for i in range(nsilences):\n",
        "                silence_weights.append(1 + i*(n-1)/(nsilences-1))\n",
        "            for j in silence_weights:\n",
        "                norm_silence_weights.append(j/sum(silence_weights))\n",
        "    silence_distribution(dist)\n",
        "    print(\"\"\"Downloading suttas...\n",
        "          \"\"\")\n",
        "\n",
        "    playlist = []\n",
        "    for i in range(len(suttas)):\n",
        "        url = (\"https://voice.suttacentral.net/scv/download/playlist/en/\"\n",
        "               + voice + suffix + \"/\" + basket + str(book) + dot_or_not\n",
        "               + str(suttas[i]) + \"%2Fen%2Fsujato\")\n",
        "        urllib.request.urlretrieve(url, \"sutta.mp3\")\n",
        "        sutta = AudioSegment.from_mp3(\"sutta.mp3\")\n",
        "        playlist.append(sutta)\n",
        "    print(\"\"\"Creating playlist...\n",
        "          \"\"\")\n",
        "    sutta_duration = 0\n",
        "    for i in range(len(playlist)):\n",
        "        sutta_duration = sutta_duration + playlist[i].duration_seconds\n",
        "    silence_duration = [1000*i*balance*sutta_duration\n",
        "                        for i in norm_silence_weights]\n",
        "    silencelist = []\n",
        "    for i in range(nsilences):\n",
        "        silence = AudioSegment.silent(silence_duration[i])\n",
        "        silencelist.append(silence)\n",
        "\n",
        "    mp3 = AudioSegment.silent(initial_silence*60*1000) + playlist[0]\n",
        "    for i in range(nsilences):\n",
        "        mp3 = mp3 + silencelist[i] + playlist[i+1]\n",
        "    if export == True:\n",
        "        mp3_name = (basket + str(book) + dot_or_not + str(suttas[0]) + \"--\" \n",
        "                    + str(suttas[-1]) + \".mp3\")\n",
        "        mp3.export(str(mp3_name), format=\"mp3\")\n",
        "        print(\"Success! See https://stackoverflow.com/a/53860114/11591024 \"\n",
        "              + \"for how to download \" + \"\\\"\" + mp3_name + \"\\\"\")\n",
        "    else:\n",
        "        return(mp3)"
      ],
      "execution_count": 0,
      "outputs": []
    },
    {
      "cell_type": "markdown",
      "metadata": {
        "id": "auFEzyXJKpLn",
        "colab_type": "text"
      },
      "source": [
        "## Documentation\n",
        "\n",
        "Use the `make_audio()` function to create a playlist with silences in-between the suttas! `make_audio()` has the following options:\n",
        "\n",
        "* **basket** takes the values \"DN\", \"MN\", \"SN\", \"AN\", \"Thig\", or \"Thag\". (See the section Abbreviations below if you're unsure what these letters mean.) See also https://tinyurl.com/nikayachapters for a table of contents of DN, MN, SN, and AN with links to SuttaCentral. (To be precise, Thig and Thag are not baskets; they are part of the Khuddaka-basket. But we'll treat them as baskets regardless.)\n",
        "* **book** indicates the SN *saṃyutta* (1-56), AN *nipāta* (1-11), Thig *therīgāthā* (1-16), or Thag *theragāthā* (1-21).\n",
        "* **first_sutta** is the first sutta to be included in the playlist (e.g. 17)\n",
        "* **last_sutta** is the last sutta to be included in the playlist (e.g. 22). NOTE: The first and last sutta have to be in the same book!\n",
        "* **balance** the balance between \"silence\" and \"sutta\". Example: if `balance` is set to 0.25 there will be 15 seconds of silence for every minute of sutta on average. (`balance` uses the actual duration of the selected suttas.)\n",
        "* **dist** controls how the silence is distributed throughout the playlist. For example, if set to 1, all silences will be equally long. If set to 1.5, the silence durations will increase linearly so that the last silence will be 1.5x longer than the first silence. Note that the total amount of silence will remain the same; `dist` only changes how the silence is distributed!\n",
        "* **initial_silence** how much silence to include before the first sutta (in minutes). Set to 0 if you want to start directly with the first sutta, or (for example) to 1/6 if you first want 10 seconds of silence.\n",
        "* **voice** \"Amy\", \"Russell\", \"Raveena\" (default), \"Matthew\" or \"Sujato\": see the SCV settings and documentation.\n",
        "* **export** if set to `True`, your file will be given a name and saved as an mp3 in Google Colab. See https://stackoverflow.com/a/53860114/11591024 for how to download files saved in Google Colab.\n",
        "\n",
        "By default, `make_audio()` will make the Kosala chapter (SN 3.21--25).\n",
        "\n",
        "* **make_audio(basket=\"sn\", book=3, first_sutta=21, last_sutta=25, balance=0.25, dist=2 initial_silence=0, voice=\"raveena\", export=0)**\n"
      ]
    },
    {
      "cell_type": "markdown",
      "metadata": {
        "id": "sS1yIrm0rAgK",
        "colab_type": "text"
      },
      "source": [
        "## Bugs & Limitations\n",
        "\n",
        "Sutta Meditation has a few known bugs and shortcomings.\n",
        "\n",
        "* **Please be gentle with how many suttas you include, especially if they are long suttas.** Sutta Meditation has trouble handling mp3s exceeding 1½ hours.\n",
        "* Some suttas (such as https://suttacentral.net/an1.1-10) are baked into a chapter. For now, Sutta Meditation cannot handle them properly, so they're best avoided. Luckily, this affects only a few suttas.\n",
        "* For now, only consecutive suttas in the same book can be processed. \n",
        "* Pali is not yet supported.\n",
        "* There seems to be some loss of audio quality."
      ]
    },
    {
      "cell_type": "markdown",
      "metadata": {
        "id": "cV5e6J-npJNu",
        "colab_type": "text"
      },
      "source": [
        "## *Examples*"
      ]
    },
    {
      "cell_type": "markdown",
      "metadata": {
        "id": "c4GCu_Bh6ieW",
        "colab_type": "text"
      },
      "source": [
        "* The Kosala chapter"
      ]
    },
    {
      "cell_type": "code",
      "metadata": {
        "id": "IuXcdd1mKT9i",
        "colab_type": "code",
        "colab": {}
      },
      "source": [
        "# Listen to the Kosala chapter!\n",
        "make_audio() "
      ],
      "execution_count": 0,
      "outputs": []
    },
    {
      "cell_type": "markdown",
      "metadata": {
        "id": "OBePNUXBpi9D",
        "colab_type": "text"
      },
      "source": [
        "* The first five verses of the Therīgātha."
      ]
    },
    {
      "cell_type": "code",
      "metadata": {
        "id": "ZlTp-skBf-Z4",
        "colab_type": "code",
        "colab": {}
      },
      "source": [
        "# Five verses by senior nuns.\n",
        "make_audio(\"thig\")"
      ],
      "execution_count": 0,
      "outputs": []
    },
    {
      "cell_type": "markdown",
      "metadata": {
        "id": "2TBy9UbiWK9M",
        "colab_type": "text"
      },
      "source": [
        "* SN 1.1 and SN 1.2 by Bhante Sujato"
      ]
    },
    {
      "cell_type": "code",
      "metadata": {
        "id": "iRr9zh4lWQLa",
        "colab_type": "code",
        "colab": {}
      },
      "source": [
        "# Two discourses narrated by Bhante Sujato.\n",
        "make_audio(basket=\"sn\", book=1, first_sutta=1, last_sutta=2, voice=\"sujato\")"
      ],
      "execution_count": 0,
      "outputs": []
    },
    {
      "cell_type": "markdown",
      "metadata": {
        "id": "rzw_MIT3pslA",
        "colab_type": "text"
      },
      "source": [
        "Try making your own playlist by adjusting the options in the cell above!"
      ]
    },
    {
      "cell_type": "markdown",
      "metadata": {
        "id": "TxrBVQR0ndCT",
        "colab_type": "text"
      },
      "source": [
        "## Abbreviations\n",
        "\n",
        "### DN\n",
        "\n",
        "> The Long Discourses (Dīgha Nikāya, abbreviated DN) is a collection of 34 discourses in the Pali canon (Tipiṭaka) of the Theravāda school. The word “long” refers to the length of the individual discourses, not the collection as a whole, which is in fact the smallest of the five Pali Nikāyas. It is one of the fundamental collections of early Buddhist teachings, depicting the Buddha in a lively range of settings. Compared to other collections it contains more extended narratives in diverse literary styles. Many discourses feature interreligious dialog with brahmins and other non-Buddhists. This collection parallels the Dīrghāgama (DA) of the Dharmaguptaka school, which is the first text in the Taishō edition of the Chinese canon. Several uncollected suttas in Chinese and Sanskrit also belong to this collection. Two-thirds of a Dīrghāgama from the Sarvāstivāda school has been found, but only small portions have been published.\n",
        ">\n",
        "> Source: https://suttacentral.net/dn\n",
        "\n",
        "### MN\n",
        "\n",
        "> The Middle Discourses (Majjhima Nikāya, abbreviated MN) is a collection of 152 discourses in the Pali canon (Tipiṭaka) of the Theravada school of Buddhism. The word “middle” refers to the length of the individual discourses. This is perhaps the most popular collection of early discourses. It contains a wide variety of teachings, many of them presented as narratives between the Buddha and a diverse range of his contemporaries. The collection parallels the Madhyamāgama (MA) of the Sarvāstivāda school, which survives as a translation in the Chinese canon.\n",
        ">\n",
        "> Source: https://suttacentral.net/mn\n",
        "\n",
        "### SN\n",
        "\n",
        "> The “Linked” or “Connected” Discourses (Saṁyutta Nikāya, abbreviated SN) is a collection of over a thousand short discourses in the Pali canon. The word “linked” refers to the fact that the texts are collected and organized by topic. In most cases the organizing principle is a particular theme of Dhamma, for example, the five aggregates, dependent origination, the noble eightfold path, mindfulness meditation, or the four noble truths. This collection contains the most extensive range of texts on these core themes. In other cases chapters are organized according to the person or kind of person who speaks. This collection has a full parallel in the Saṁyuktāgama (SA) of the Sarvāstivāda school in Chinese translation. In addition, there are two partial collections in Chinese (SA-2 and SA-3) as well as a number of miscellaneous or fragmentary texts in Chinese, Sanskrit, and Tibetan. Much of the organizational structure of SN is shared with SA, suggesting that this structure preceded the split between these two collections.\n",
        ">\n",
        "> Source: https://suttacentral.net/sn\n",
        "\n",
        "### AN\n",
        "\n",
        "> The “Numbered” or “Numerical” Discourses are usually known as Aṅguttara Nikāya in Pali, abbreviated AN. However, the Pali tradition also knows the form Ekottara (“one-up” or “incremental”), and this is the form usually found in the northern collections. These collections organize texts in numbered sets, from one to eleven. Compared to the other nikāyas, they are more oriented to the lay community. The Ekottarikāgama (EA) in Chinese is a highly unusual text, which features a range of variations within itself when it comes even to basic doctrines. It shares considerably less in common with the Pali Aṅguttara than the other collections do with their counterparts. In addition, there is a partial Ekottarikāgama in Chinese, as well as a variety of individual discourses and fragments in Chinese and Sanskrit.\n",
        ">\n",
        "> Source: https://suttacentral.net/an\n",
        "\n",
        "###Thag \n",
        "\n",
        "> The “Verses of the Senior Monks” is a collection of about 1288 verses attributed to 264 of the senior monks alive in the Buddha’s time, or in a few cases, a little later. It is a pair with the Therīgāthā, the “Verses of the Senior Nuns”. These verses celebrate the joy of freedom and the life of meditation in the forest. Together these collections constitute one of the oldest and largest collections of contemplative literature, preserving the unique voices of hundreds of early practitioners. Based on style and content, these collections belong to the early discourses. They are referred to on occasion in the northern canons, but no parallel collections have survived.\n",
        ">\n",
        "> Source: https://suttacentral.net/thag\n",
        "\n",
        "###Thig\n",
        "\n",
        "> The “Verses of the Senior Nuns” is a collection of about 524 verses attributed to 73 of the senior nuns alive in the Buddha’s time, or in a few cases, a little later. These verses celebrate the bliss of freedom and the life of meditation, full of proud and joyous proclamations of their spiritual attainments and their gratitude to other nuns as guides and teachers. The Therīgāthā is one of the oldest spiritual texts recording only women’s voices. It is a pair with the Theragāthā, the “Verses of the Senior Monks”. Together these collections constitute one of the oldest and largest collections of contemplative literature. Based on style and content, these collections belong to the early discourses. They are referred to on occasion in the northern canons, but no parallel collections have survived.\n",
        ">\n",
        "> Source: https://suttacentral.net/thig"
      ]
    },
    {
      "cell_type": "markdown",
      "metadata": {
        "id": "M1lrlaAurnM3",
        "colab_type": "text"
      },
      "source": [
        "## v0.0.2 changes\n",
        "\n",
        "Case-insensitive input, defaults for all six baskets, code adjusted to PEP 8, feedback for incomplete input."
      ]
    }
  ]
}